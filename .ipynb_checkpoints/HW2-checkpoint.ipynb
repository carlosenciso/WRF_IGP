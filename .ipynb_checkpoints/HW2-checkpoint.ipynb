{
 "cells": [
  {
   "cell_type": "markdown",
   "metadata": {},
   "source": [
    "<div style=\"width: 100%; overflow: hidden;\">\n",
    "    <div style=\"width: 150px; float: left;\"> <img src=\"IMG/logo_IGP.png\" alt=\"Data For Science, Inc\" align=\"left\" border=\"0\"> </div>\n",
    "    <div style=\"float: left; margin-left: 10px;\"> <h1>Assignment 02</h1>\n",
    "<h1>Modelado Numérico de la Atmósfera</h1>\n",
    "        <p>Carlos Enciso Ojeda<br/>\n",
    "        <a href=\"https://github.com/carlosenciso/WRF_IGP/\">www.atmcenciso.com</a><br/>\n",
    "            @carlos.enciso.o, senamhi@cenciso</p></div>\n",
    "</div>"
   ]
  },
  {
   "cell_type": "markdown",
   "metadata": {},
   "source": [
    "<h2><strong>Modules</strong></h2>"
   ]
  },
  {
   "cell_type": "code",
   "execution_count": 1,
   "metadata": {},
   "outputs": [],
   "source": [
    "import numpy as np\n",
    "import pandas as pd\n",
    "import matplotlib.pyplot as plt\n",
    "import matplotlib.animation as animation\n",
    "from scipy import integrate\n",
    "import cmocean as cmo\n",
    "import xarray as xr\n",
    "import imageio\n",
    "import os\n",
    "plt.style.use('seaborn')"
   ]
  },
  {
   "cell_type": "markdown",
   "metadata": {},
   "source": [
    "<h2><strong>Parameters</strong></h2>"
   ]
  },
  {
   "cell_type": "code",
   "execution_count": 194,
   "metadata": {},
   "outputs": [],
   "source": [
    "wind_speed = 8*1e-3\n",
    "wind_direc = 272\n",
    "dx = dy = 18\n",
    "simulated_time = 2*3600\n",
    "uwind = np.cos(np.deg2rad(wind_direc-270))*wind_speed\n",
    "vwind = -np.sin(np.deg2rad(wind_direc-270))*wind_speed"
   ]
  },
  {
   "cell_type": "code",
   "execution_count": 220,
   "metadata": {},
   "outputs": [
    {
     "data": {
      "text/plain": [
       "0.007995126616152766"
      ]
     },
     "execution_count": 220,
     "metadata": {},
     "output_type": "execute_result"
    }
   ],
   "source": [
    "uwind"
   ]
  },
  {
   "cell_type": "code",
   "execution_count": 221,
   "metadata": {},
   "outputs": [
    {
     "data": {
      "text/plain": [
       "-0.00027919597362000774"
      ]
     },
     "execution_count": 221,
     "metadata": {},
     "output_type": "execute_result"
    }
   ],
   "source": [
    "vwind"
   ]
  },
  {
   "cell_type": "markdown",
   "metadata": {},
   "source": [
    "<h2><strong>Reading Dataset</strong></h2>"
   ]
  },
  {
   "cell_type": "code",
   "execution_count": 195,
   "metadata": {},
   "outputs": [],
   "source": [
    "Pres = pd.read_csv('./dataset01_matrix.csv', header=None)+1e3"
   ]
  },
  {
   "cell_type": "markdown",
   "metadata": {},
   "source": [
    "## **Time step**"
   ]
  },
  {
   "cell_type": "markdown",
   "metadata": {},
   "source": [
    "## $\\frac{C*\\Delta t}{\\Delta r} \\le 0.06$"
   ]
  },
  {
   "cell_type": "code",
   "execution_count": 196,
   "metadata": {},
   "outputs": [
    {
     "name": "stdout",
     "output_type": "stream",
     "text": [
      "Our time step must be less than 130.52 seconds\n"
     ]
    }
   ],
   "source": [
    "tstep = lambda ws, wd, dx, dy: round(0.06*1/(ws*abs((np.cos(np.deg2rad(wd))))/dx + \n",
    "                                     ws*abs(np.sin(np.deg2rad(wd)))/dy),2)\n",
    "time_step = tstep(wind_speed, wind_direc, dx, dy)\n",
    "print(f'Our time step must be less than {time_step} seconds')"
   ]
  },
  {
   "cell_type": "markdown",
   "metadata": {},
   "source": [
    "## **Choosing** $\\Delta t = 100s$"
   ]
  },
  {
   "cell_type": "code",
   "execution_count": 197,
   "metadata": {},
   "outputs": [],
   "source": [
    "time_step = 100"
   ]
  },
  {
   "cell_type": "code",
   "execution_count": 198,
   "metadata": {},
   "outputs": [
    {
     "name": "stdout",
     "output_type": "stream",
     "text": [
      "Total N simulation is 73\n"
     ]
    }
   ],
   "source": [
    "N = round(simulated_time/time_step)+1\n",
    "print(f'Total N simulation is {N}')"
   ]
  },
  {
   "cell_type": "markdown",
   "metadata": {},
   "source": [
    "## **Total derivative for Temperature**"
   ]
  },
  {
   "cell_type": "markdown",
   "metadata": {},
   "source": [
    "<h1>$$\\frac{DP}{Dt} = \\frac{\\partial P}{\\partial t} + u\\frac{\\partial P}{\\partial x} + v\\frac{\\partial P}{\\partial y} = 0$$</h1>"
   ]
  },
  {
   "cell_type": "markdown",
   "metadata": {},
   "source": [
    "<h1>$$\\frac{\\partial P}{\\partial t} = - u\\frac{\\partial P}{\\partial x} - v\\frac{\\partial P}{\\partial y}$$</h1>"
   ]
  },
  {
   "cell_type": "markdown",
   "metadata": {},
   "source": [
    "<h1>$$P_{t+1} = P_{t} - [u\\frac{\\partial P}{\\partial x} - v\\frac{\\partial P}{\\partial y}]\\Delta t$$</h1>"
   ]
  },
  {
   "cell_type": "code",
   "execution_count": 199,
   "metadata": {},
   "outputs": [],
   "source": [
    "DPdt = np.array([Pres.values]*N)    "
   ]
  },
  {
   "cell_type": "code",
   "execution_count": 227,
   "metadata": {},
   "outputs": [],
   "source": [
    "def eulerm(f,dx,dy,dt,u,v):\n",
    "    dPdy,dPdx = np.gradient(f, dy,dx)\n",
    "    F = f-dt*(u*dPdx+v*dPdy)\n",
    "    return F"
   ]
  },
  {
   "cell_type": "code",
   "execution_count": 228,
   "metadata": {},
   "outputs": [],
   "source": [
    "for n in range(N-1):\n",
    "    DPdt[n+1,:,:] = eulerm(DPdt[n,:,:],dx,dy,time_step,uwind,vwind)"
   ]
  },
  {
   "cell_type": "code",
   "execution_count": 254,
   "metadata": {},
   "outputs": [],
   "source": [
    "#------------------\n",
    "# Smoothed data\n",
    "#------------------\n",
    "sigma = 0.7\n",
    "DPdt = gaussian_filter(DPdt, sigma)"
   ]
  },
  {
   "cell_type": "code",
   "execution_count": 255,
   "metadata": {},
   "outputs": [],
   "source": [
    "%%capture\n",
    "#------------------\n",
    "# Plotting\n",
    "#------------------\n",
    "def advect_plot(n,N, vmin=None, vmax=None):\n",
    "    fig, ax = plt.subplots(figsize=(12,10), dpi=80)\n",
    "    pls = ax.contourf(DPdt[n,:,:], levels=np.linspace(vmin,vmax,60, endpoint=True), cmap=plt.cm.jet_r, \n",
    "                      zorder=1, vmin=vmin, vmax=vmax, origin='upper')\n",
    "    CS  = ax.contour(DPdt[n,:,:], levels=17, zorder=2, linewidths=0.6, colors='black', \n",
    "                     vmin=vmax, vmax=vmin, origin='upper')\n",
    "    ax.clabel(CS, CS.levels, inline=True, fontsize=8, fmt='%1.1f', colors='black')\n",
    "    ax.grid(linestyle='--',color='gray',alpha=0.5)\n",
    "    ax.set(xlabel='X axis', ylabel='Y axis') \n",
    "    ax.set_title(f'Time={N} seconds', loc='left')\n",
    "    #ax.quiver(X,Y,np.ones_like(DPdt[0,:,:])*uwind,np.ones_like(DPdt[0,:,:])*vwind, headwidth=3, \n",
    "    #          linewidths=.2, zorder=1, alpha=.4)\n",
    "    colorbar_ax = fig.add_axes([0.91, 0.125, 0.035, 0.755])\n",
    "    fig.colorbar(pls, cax=colorbar_ax, aspect=15, label='Pressure (hPa)', ticks=np.arange(vmin,vmax+1,2))\n",
    "    fig.canvas.draw()\n",
    "    image = np.frombuffer(fig.canvas.tostring_rgb(), dtype='uint8')\n",
    "    image  = image.reshape(fig.canvas.get_width_height()[::-1] + (3,))\n",
    "    return image\n",
    "kwargs_write = {'fps':4.0, 'quantizer':'nq'}\n",
    "imageio.mimsave('./Presure_advect_HW2_CEO3.gif', \n",
    "                [advect_plot(n, N, vmin=1017, vmax=1025) for n,N in enumerate(np.arange(0,simulated_time+1,time_step))], \n",
    "                fps=4)"
   ]
  }
 ],
 "metadata": {
  "kernelspec": {
   "display_name": "py37",
   "language": "python",
   "name": "py37"
  },
  "language_info": {
   "codemirror_mode": {
    "name": "ipython",
    "version": 3
   },
   "file_extension": ".py",
   "mimetype": "text/x-python",
   "name": "python",
   "nbconvert_exporter": "python",
   "pygments_lexer": "ipython3",
   "version": "3.7.6"
  }
 },
 "nbformat": 4,
 "nbformat_minor": 4
}
