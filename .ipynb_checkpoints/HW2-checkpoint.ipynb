{
 "cells": [
  {
   "cell_type": "markdown",
   "metadata": {},
   "source": [
    "## **WRF-IGP WORK ASSIGMENT #1** "
   ]
  },
  {
   "cell_type": "code",
   "execution_count": 134,
   "metadata": {},
   "outputs": [],
   "source": [
    "import numpy as np\n",
    "import matplotlib.pyplot as plt\n",
    "import matplotlib.animation as animation\n",
    "from scipy import integrate\n",
    "import cmocean as cmo\n",
    "import xarray as xr\n",
    "import imageio\n",
    "import os\n",
    "plt.style.use('seaborn')"
   ]
  },
  {
   "cell_type": "markdown",
   "metadata": {},
   "source": [
    "<h2><strong>Parameters</strong></h2>"
   ]
  },
  {
   "cell_type": "code",
   "execution_count": 404,
   "metadata": {},
   "outputs": [],
   "source": [
    "wind_speed = 7*1e-3\n",
    "wind_direc = 140\n",
    "dx = dy = 18\n",
    "time_step  = 0.04\n",
    "uwind = -np.cos(np.deg2rad(wind_direc))*wind_speed\n",
    "vwind = -np.sin(np.deg2rad(wind_direc))*wind_speed"
   ]
  },
  {
   "cell_type": "code",
   "execution_count": 405,
   "metadata": {},
   "outputs": [],
   "source": [
    "T = np.array([[21.2, 22.8, 23.5, 24.8, 26.5], \n",
    "              [22.7, 24.4, 25.2, 26.5, 28.4], \n",
    "              [24.3, 26.1, 27.0, 28.4, 30.4], \n",
    "              [26.0, 27.9, 28.9, 30.4, 32.5],\n",
    "              [27.8, 29.9, 30.9, 32.5, 34.8],\n",
    "              [29.7, 32.0, 33.0, 34.8, 37.2], \n",
    "              [31.8, 34.2, 35.3, 37.2, 39.8]])"
   ]
  },
  {
   "cell_type": "markdown",
   "metadata": {},
   "source": [
    "## **Time step**"
   ]
  },
  {
   "cell_type": "markdown",
   "metadata": {},
   "source": [
    "## $\\frac{C*\\Delta t}{\\Delta r} \\le 0.06$"
   ]
  },
  {
   "cell_type": "code",
   "execution_count": 406,
   "metadata": {},
   "outputs": [
    {
     "name": "stdout",
     "output_type": "stream",
     "text": [
      "Our time step must be less than 217.36 seconds\n"
     ]
    }
   ],
   "source": [
    "tstep = lambda ws, wd, dx, dy: round(0.06*dx/ws*abs((np.cos(np.deg2rad(wd)))) + \n",
    "                                     0.06*dy/ws*abs(np.sin(np.deg2rad(wd))),2)\n",
    "time_step = tstep(wind_speed, wind_direc, dx, dy)\n",
    "print(f'Our time step must be less than {time_step} seconds')"
   ]
  },
  {
   "cell_type": "markdown",
   "metadata": {},
   "source": [
    "## **Choosing** $\\Delta t = 200s$"
   ]
  },
  {
   "cell_type": "code",
   "execution_count": 419,
   "metadata": {},
   "outputs": [],
   "source": [
    "time_step = 200"
   ]
  },
  {
   "cell_type": "code",
   "execution_count": 420,
   "metadata": {},
   "outputs": [
    {
     "name": "stdout",
     "output_type": "stream",
     "text": [
      "Total N simulation is 19\n"
     ]
    }
   ],
   "source": [
    "N = round(3600/time_step)+1\n",
    "print(f'Total N simulation is {N}')"
   ]
  },
  {
   "cell_type": "markdown",
   "metadata": {},
   "source": [
    "## **Total derivative for Temperature**"
   ]
  },
  {
   "cell_type": "markdown",
   "metadata": {},
   "source": [
    "<h1>$$\\frac{\\partial T}{\\partial t} = u\\frac{\\partial T}{\\partial x} + v\\frac{\\partial T}{\\partial y}$$</h1>"
   ]
  },
  {
   "cell_type": "code",
   "execution_count": 421,
   "metadata": {},
   "outputs": [],
   "source": [
    "DTdt = np.array([T]*N)    "
   ]
  },
  {
   "cell_type": "code",
   "execution_count": 422,
   "metadata": {},
   "outputs": [],
   "source": [
    "def eulerm(f,dx,dy,dt,u,v):\n",
    "    dTdy,dTdx = np.gradient(f, dy,dx)\n",
    "    dTdy = -dTdy\n",
    "    F = f+dt*(u*dTdx+v*dTdy)\n",
    "    return F"
   ]
  },
  {
   "cell_type": "code",
   "execution_count": 423,
   "metadata": {},
   "outputs": [],
   "source": [
    "for n in range(N-1):\n",
    "    DTdt[n+1,:,:] = eulerm(DTdt[n,:,:],dx,dy,time_step,uwind,vwind)"
   ]
  },
  {
   "cell_type": "code",
   "execution_count": 514,
   "metadata": {},
   "outputs": [],
   "source": [
    "#------------------\n",
    "# Gradients\n",
    "#------------------\n",
    "DTdy = -np.array([np.gradient(DTdt[n,:,:])[0] for n in range(DTdt.shape[0])])\n",
    "DTdx = np.array([np.gradient(DTdt[n,:,:])[1] for n in range(DTdt.shape[0])])\n",
    "X,Y = np.meshgrid(np.arange(7), np.arange(5))"
   ]
  },
  {
   "cell_type": "code",
   "execution_count": 518,
   "metadata": {},
   "outputs": [],
   "source": [
    "%%capture\n",
    "#------------------\n",
    "# Plotting\n",
    "#------------------\n",
    "def temp_advect_plot(n,N):\n",
    "    fig, ax = plt.subplots(figsize=(10,6), dpi=80)\n",
    "    pls = ax.contourf(DTdt[n,:,:], levels=np.linspace(20,45,60, endpoint=True), cmap=cmo.cm.delta, \n",
    "                      zorder=1, vmin=20, vmax=45, origin='upper')\n",
    "    CS  = ax.contour(DTdt[n,:,:], levels=12, zorder=2, linewidths=0.6, colors='black', \n",
    "                     vmin=20, vmax=45, origin='upper')\n",
    "    ax.clabel(CS, CS.levels, inline=True, fontsize=8, fmt='%1.1f', colors='black')\n",
    "    ax.grid(linestyle='--',color='gray',alpha=0.5)\n",
    "    ax.set(xlabel='X axis', ylabel='Y axis') \n",
    "    ax.set_title(f'Time={N} seconds', loc='left')\n",
    "    ax.set_title('C.E.O', loc='right')\n",
    "    ax.set_xticklabels(np.arange(0,5,.5))\n",
    "    ax.set_yticklabels(np.arange(0,7,1))\n",
    "    colorbar_ax = fig.add_axes([0.91, 0.125, 0.035, 0.755])\n",
    "    fig.colorbar(pls, cax=colorbar_ax, aspect=15, label='Temperature (ºC)', ticks=np.arange(20,45,4))\n",
    "    fig.canvas.draw()\n",
    "    image = np.frombuffer(fig.canvas.tostring_rgb(), dtype='uint8')\n",
    "    image  = image.reshape(fig.canvas.get_width_height()[::-1] + (3,))\n",
    "    return image\n",
    "kwargs_write = {'fps':1.0, 'quantizer':'nq'}\n",
    "imageio.mimsave('./Temp_advect_HW1_CEO.gif', \n",
    "                [temp_advect_plot(n, N) for n,N in enumerate(np.arange(0,3600+1,time_step))], fps=1)"
   ]
  }
 ],
 "metadata": {
  "kernelspec": {
   "display_name": "py37",
   "language": "python",
   "name": "py37"
  },
  "language_info": {
   "codemirror_mode": {
    "name": "ipython",
    "version": 3
   },
   "file_extension": ".py",
   "mimetype": "text/x-python",
   "name": "python",
   "nbconvert_exporter": "python",
   "pygments_lexer": "ipython3",
   "version": "3.7.6"
  }
 },
 "nbformat": 4,
 "nbformat_minor": 4
}
