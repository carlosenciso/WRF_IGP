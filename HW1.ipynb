{
 "cells": [
  {
   "cell_type": "markdown",
   "metadata": {},
   "source": [
    "## **WRF WORK ASSIGMENT #1** "
   ]
  },
  {
   "cell_type": "code",
   "execution_count": 590,
   "metadata": {},
   "outputs": [],
   "source": [
    "import numpy as np\n",
    "import matplotlib.pyplot as plt\n",
    "import matplotlib.animation as animation\n",
    "from scipy import integrate\n",
    "import cmocean as cmo\n",
    "import xarray as xr\n",
    "import imageio\n",
    "import os\n",
    "plt.style.use('seaborn')"
   ]
  },
  {
   "cell_type": "markdown",
   "metadata": {},
   "source": [
    "<h2><strong>Parameters</strong></h2>"
   ]
  },
  {
   "cell_type": "code",
   "execution_count": 252,
   "metadata": {},
   "outputs": [],
   "source": [
    "wind_speed = 7*1e-3\n",
    "wind_direc = 140\n",
    "dx = dy = 18\n",
    "time_step  = 0.04\n",
    "uwind = np.cos(np.deg2rad(wind_direc))*wind_speed\n",
    "vwind = np.sin(np.deg2rad(wind_direc))*wind_speed"
   ]
  },
  {
   "cell_type": "code",
   "execution_count": 189,
   "metadata": {},
   "outputs": [],
   "source": [
    "T = np.array([[21.2, 22.8, 23.5, 24.8, 26.5], \n",
    "              [22.7, 24.4, 25.2, 26.5, 28.4], \n",
    "              [24.3, 26.1, 27.0, 28.4, 30.4], \n",
    "              [26.0, 27.9, 28.9, 30.4, 32.5],\n",
    "              [27.8, 29.9, 30.9, 32.5, 34.8],\n",
    "              [29.7, 32.0, 33.0, 34.8, 37.2], \n",
    "              [31.8, 34.2, 35.3, 37.2, 39.8]])"
   ]
  },
  {
   "cell_type": "markdown",
   "metadata": {},
   "source": [
    "#### **Time step**"
   ]
  },
  {
   "cell_type": "markdown",
   "metadata": {},
   "source": [
    "<h3>$\\frac{C*\\Delta t}{\\Delta r} \\le 0.06$</h3>"
   ]
  },
  {
   "cell_type": "code",
   "execution_count": 182,
   "metadata": {},
   "outputs": [
    {
     "name": "stdout",
     "output_type": "stream",
     "text": [
      "Our time step must be less than 216.0 seconds\n"
     ]
    }
   ],
   "source": [
    "tstep = lambda ws, wd, dx, dy: round(0.06*dx/ws*abs((np.cos(np.deg2rad(wd)))) + \n",
    "                                     0.06*dy/ws*abs(np.sin(np.deg2rad(wd))),2)\n",
    "time_step = tstep(wind_speed, wind_direc, dx, dy)\n",
    "print(f'Our time step must be less than {time_step} seconds')"
   ]
  },
  {
   "cell_type": "markdown",
   "metadata": {},
   "source": [
    "#### **Choosing** $\\Delta t = 200s$"
   ]
  },
  {
   "cell_type": "code",
   "execution_count": 318,
   "metadata": {},
   "outputs": [],
   "source": [
    "time_step = 200"
   ]
  },
  {
   "cell_type": "code",
   "execution_count": 488,
   "metadata": {},
   "outputs": [
    {
     "name": "stdout",
     "output_type": "stream",
     "text": [
      "Total N simulation is 19\n"
     ]
    }
   ],
   "source": [
    "N = round(3600/200)+1\n",
    "print(f'Total N simulation is {N}')"
   ]
  },
  {
   "cell_type": "markdown",
   "metadata": {},
   "source": [
    "<h2><center><strong>Total derivative for Temperature</strong></center></h2>"
   ]
  },
  {
   "cell_type": "markdown",
   "metadata": {},
   "source": [
    "<h3><strong>$$\\frac{\\partial T}{\\partial t} = u\\frac{\\partial T}{\\partial x} + v\\frac{\\partial T}{\\partial y}$$</strong></h3>"
   ]
  },
  {
   "cell_type": "code",
   "execution_count": 587,
   "metadata": {},
   "outputs": [],
   "source": [
    "DTdt = np.array([T]*N)    "
   ]
  },
  {
   "cell_type": "code",
   "execution_count": 602,
   "metadata": {},
   "outputs": [],
   "source": [
    "def eulerm(f,dx,dy,dt,u,v):\n",
    "    dTdx,dTdy = np.gradient(f.T, dx,dy)\n",
    "    dTdx = dTdx.T\n",
    "    dTdy = -dTdy.T\n",
    "    F = f+dt*(u*dTdx+v*dTdy)\n",
    "    return F"
   ]
  },
  {
   "cell_type": "code",
   "execution_count": 603,
   "metadata": {},
   "outputs": [],
   "source": [
    "for n in range(N-1):\n",
    "    DTdt[n+1,:,:] = eulerm(DTdt[n,:,:], dx,dy,time_step,uwind,vwind)"
   ]
  },
  {
   "cell_type": "code",
   "execution_count": 604,
   "metadata": {},
   "outputs": [
    {
     "data": {
      "text/plain": [
       "(18, 7, 5)"
      ]
     },
     "execution_count": 604,
     "metadata": {},
     "output_type": "execute_result"
    }
   ],
   "source": [
    "DTdt.shape"
   ]
  },
  {
   "cell_type": "code",
   "execution_count": 622,
   "metadata": {},
   "outputs": [],
   "source": [
    "def xrgradient(DTdt,dx,dy):\n",
    "    dtdx = [np.gradient(DTdt[n,:,:],dx,dy) for n in range(DTdt.shape[0])]\n",
    "    print(len(dtdx[0]))\n",
    "    \"\"\"\n",
    "    ds = xr.DataArray(dtdx, dims=['time','x', 'y'], \n",
    "                      coords={'time':np.arange(18),'y':np.arange(7),'x':np.arange(5)})\n",
    "    \"\"\""
   ]
  },
  {
   "cell_type": "code",
   "execution_count": 623,
   "metadata": {},
   "outputs": [
    {
     "name": "stdout",
     "output_type": "stream",
     "text": [
      "2\n"
     ]
    }
   ],
   "source": [
    "xrgradient(DTdt,dx,dy)"
   ]
  },
  {
   "cell_type": "code",
   "execution_count": 554,
   "metadata": {},
   "outputs": [],
   "source": [
    "%%capture\n",
    "def temp_advect_plot(n,N):\n",
    "    fig, ax = plt.subplots(figsize=(10,6), dpi=80)\n",
    "    pls = ax.contourf(DTdt[n,:,:], levels=np.linspace(15,41,48, endpoint=True), cmap=cmo.cm.delta, \n",
    "                      zorder=1, vmin=20, vmax=40)\n",
    "    CS  = ax.contour(DTdt[n,:,:], levels=12, zorder=2, linewidths=0.6, colors='black', vmin=20, vmax=40)\n",
    "    ax.clabel(CS, CS.levels, inline=True, fontsize=8, fmt='%1.1f', colors='black')\n",
    "    ax.grid(linestyle='--',color='gray',alpha=0.5)\n",
    "    ax.set(xlabel='X axis', ylabel='Y axis') \n",
    "    ax.set_title(f'Time={N} seconds', loc='left')\n",
    "    ax.set_xticks(np.arange(0,5))\n",
    "    colorbar_ax = fig.add_axes([0.91, 0.125, 0.035, 0.755])\n",
    "    fig.colorbar(pls, cax=colorbar_ax, aspect=15, label='Temperature (ºC)', ticks=np.arange(15,41,3))\n",
    "    fig.canvas.draw()\n",
    "    image = np.frombuffer(fig.canvas.tostring_rgb(), dtype='uint8')\n",
    "    image  = image.reshape(fig.canvas.get_width_height()[::-1] + (3,))\n",
    "    return image\n",
    "kwargs_write = {'fps':1.0, 'quantizer':'nq'}\n",
    "imageio.mimsave('./Temp_advect_HW1_CEO.gif', \n",
    "                [temp_advect_plot(n, N) for n,N in enumerate(np.arange(0,3600+1,time_step))], fps=1)"
   ]
  }
 ],
 "metadata": {
  "kernelspec": {
   "display_name": "py37",
   "language": "python",
   "name": "py37"
  },
  "language_info": {
   "codemirror_mode": {
    "name": "ipython",
    "version": 3
   },
   "file_extension": ".py",
   "mimetype": "text/x-python",
   "name": "python",
   "nbconvert_exporter": "python",
   "pygments_lexer": "ipython3",
   "version": "3.7.6"
  }
 },
 "nbformat": 4,
 "nbformat_minor": 4
}
